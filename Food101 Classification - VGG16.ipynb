{
 "cells": [
  {
   "cell_type": "code",
   "execution_count": 1,
   "metadata": {},
   "outputs": [
    {
     "name": "stderr",
     "output_type": "stream",
     "text": [
      "Using TensorFlow backend.\n"
     ]
    }
   ],
   "source": [
    "import os\n",
    "import h5py\n",
    "import keras\n",
    "import numpy as np\n",
    "from keras.applications.resnet50 import ResNet50 \n",
    "from keras.applications.vgg16 import VGG16\n",
    "from keras.applications.inception_v3 import InceptionV3\n",
    "from keras.models import Model\n",
    "from keras.layers import Dense, GlobalAveragePooling2D, Dropout\n",
    "from keras.utils.io_utils import HDF5Matrix\n",
    "%matplotlib notebook\n",
    "import matplotlib.pyplot as plt"
   ]
  },
  {
   "cell_type": "code",
   "execution_count": 2,
   "metadata": {},
   "outputs": [
    {
     "name": "stderr",
     "output_type": "stream",
     "text": [
      "/Users/lle/anaconda3/lib/python3.6/site-packages/keras/utils/io_utils.py:60: H5pyDeprecationWarning: The default file mode will change to 'r' (read-only) in h5py 3.0. To suppress this warning, pass the mode you need to h5py.File(), or set the global default h5.get_config().default_file_mode, or set the environment variable H5PY_DEFAULT_READONLY=1. Available modes are: 'r', 'r+', 'w', 'w-'/'x', 'a'. See the docs for details.\n",
      "  f = h5py.File(datapath)\n"
     ]
    }
   ],
   "source": [
    "# extract and process Food101 data\n",
    "base_path = os.path.join('.', 'food41')\n",
    "train_h5_path = os.path.join(base_path, 'food_c101_n10099_r32x32x1.h5')\n",
    "test_h5_path = os.path.join(base_path, 'food_test_c101_n1000_r32x32x1.h5')\n",
    "\n",
    "X_train = HDF5Matrix(train_h5_path, 'images')\n",
    "y_train = HDF5Matrix(train_h5_path, 'category')\n",
    "\n",
    "X_test = HDF5Matrix(test_h5_path, 'images')\n",
    "y_test = HDF5Matrix(test_h5_path, 'category')"
   ]
  },
  {
   "cell_type": "code",
   "execution_count": 3,
   "metadata": {},
   "outputs": [],
   "source": [
    "# load pre-trained vgg model\n",
    "base_model = VGG16(weights= None, include_top=False, \n",
    "                      input_shape= (32, 32, 1))\n",
    "x = base_model.output\n",
    "x = GlobalAveragePooling2D()(x)\n",
    "x = Dropout(0.3)(x)\n",
    "predictions = Dense(101, activation= 'softmax')(x)\n",
    "vgg = Model(inputs = base_model.input, outputs = predictions)"
   ]
  },
  {
   "cell_type": "code",
   "execution_count": 4,
   "metadata": {},
   "outputs": [
    {
     "name": "stdout",
     "output_type": "stream",
     "text": [
      "Train on 10099 samples, validate on 1000 samples\n",
      "Epoch 1/5\n",
      "10099/10099 [==============================] - 685s 68ms/step - loss: 4.6158 - accuracy: 0.0082 - val_loss: 4.6152 - val_accuracy: 0.0080\n",
      "Epoch 2/5\n",
      "10099/10099 [==============================] - 634s 63ms/step - loss: 4.6144 - accuracy: 0.0100 - val_loss: 4.6162 - val_accuracy: 0.0060\n",
      "Epoch 3/5\n",
      "10099/10099 [==============================] - 651s 64ms/step - loss: 4.6137 - accuracy: 0.0109 - val_loss: 4.6174 - val_accuracy: 0.0060\n",
      "Epoch 4/5\n",
      "10099/10099 [==============================] - 786s 78ms/step - loss: 4.6132 - accuracy: 0.0115 - val_loss: 4.6175 - val_accuracy: 0.0060\n",
      "Epoch 5/5\n",
      "10099/10099 [==============================] - 826s 82ms/step - loss: 4.6129 - accuracy: 0.0099 - val_loss: 4.6183 - val_accuracy: 0.0060\n"
     ]
    }
   ],
   "source": [
    "# train with vgg\n",
    "vgg.compile(loss='categorical_crossentropy',\n",
    "            optimizer='adam',\n",
    "            metrics=['accuracy'])\n",
    "vgg_his = vgg.fit(X_train, y_train, \n",
    "                  validation_data=(X_test, y_test), \n",
    "                  batch_size = 256,\n",
    "                  epochs = 5, shuffle=\"batch\")"
   ]
  }
 ],
 "metadata": {
  "kernelspec": {
   "display_name": "Python 3",
   "language": "python",
   "name": "python3"
  },
  "language_info": {
   "codemirror_mode": {
    "name": "ipython",
    "version": 3
   },
   "file_extension": ".py",
   "mimetype": "text/x-python",
   "name": "python",
   "nbconvert_exporter": "python",
   "pygments_lexer": "ipython3",
   "version": "3.6.10"
  }
 },
 "nbformat": 4,
 "nbformat_minor": 4
}
